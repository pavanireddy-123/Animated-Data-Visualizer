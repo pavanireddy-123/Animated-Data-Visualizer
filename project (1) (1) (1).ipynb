{
 "cells": [
  {
   "cell_type": "code",
   "execution_count": 1,
   "id": "14d9fe58-7c7f-4579-82b9-73d80eeb99d6",
   "metadata": {},
   "outputs": [
    {
     "data": {
      "text/html": [
       "<div>\n",
       "<style scoped>\n",
       "    .dataframe tbody tr th:only-of-type {\n",
       "        vertical-align: middle;\n",
       "    }\n",
       "\n",
       "    .dataframe tbody tr th {\n",
       "        vertical-align: top;\n",
       "    }\n",
       "\n",
       "    .dataframe thead th {\n",
       "        text-align: right;\n",
       "    }\n",
       "</style>\n",
       "<table border=\"1\" class=\"dataframe\">\n",
       "  <thead>\n",
       "    <tr style=\"text-align: right;\">\n",
       "      <th></th>\n",
       "      <th>id</th>\n",
       "      <th>title</th>\n",
       "      <th>vote_average</th>\n",
       "      <th>vote_count</th>\n",
       "      <th>status</th>\n",
       "      <th>release_date</th>\n",
       "      <th>revenue</th>\n",
       "      <th>runtime</th>\n",
       "      <th>adult</th>\n",
       "      <th>backdrop_path</th>\n",
       "      <th>...</th>\n",
       "      <th>original_language</th>\n",
       "      <th>original_title</th>\n",
       "      <th>overview</th>\n",
       "      <th>popularity</th>\n",
       "      <th>poster_path</th>\n",
       "      <th>tagline</th>\n",
       "      <th>genres</th>\n",
       "      <th>production_companies</th>\n",
       "      <th>production_countries</th>\n",
       "      <th>spoken_languages</th>\n",
       "    </tr>\n",
       "  </thead>\n",
       "  <tbody>\n",
       "    <tr>\n",
       "      <th>0</th>\n",
       "      <td>150540</td>\n",
       "      <td>Inside Out</td>\n",
       "      <td>7.922</td>\n",
       "      <td>19463</td>\n",
       "      <td>Released</td>\n",
       "      <td>2015-06-09</td>\n",
       "      <td>857611174</td>\n",
       "      <td>95</td>\n",
       "      <td>False</td>\n",
       "      <td>/j29ekbcLpBvxnGk6LjdTc2EI5SA.jpg</td>\n",
       "      <td>...</td>\n",
       "      <td>en</td>\n",
       "      <td>Inside Out</td>\n",
       "      <td>Growing up can be a bumpy road, and it's no ex...</td>\n",
       "      <td>107.292</td>\n",
       "      <td>/2H1TmgdfNtsKlU9jKdeNyYL5y8T.jpg</td>\n",
       "      <td>Meet the little voices inside your head.</td>\n",
       "      <td>Animation, Family, Adventure, Drama, Comedy</td>\n",
       "      <td>Pixar, Walt Disney Pictures</td>\n",
       "      <td>United States of America</td>\n",
       "      <td>English</td>\n",
       "    </tr>\n",
       "    <tr>\n",
       "      <th>1</th>\n",
       "      <td>14160</td>\n",
       "      <td>Up</td>\n",
       "      <td>7.949</td>\n",
       "      <td>18857</td>\n",
       "      <td>Released</td>\n",
       "      <td>2009-05-28</td>\n",
       "      <td>735099082</td>\n",
       "      <td>96</td>\n",
       "      <td>False</td>\n",
       "      <td>/hGGC9gKo7CFE3fW07RA587e5kol.jpg</td>\n",
       "      <td>...</td>\n",
       "      <td>en</td>\n",
       "      <td>Up</td>\n",
       "      <td>Carl Fredricksen spent his entire life dreamin...</td>\n",
       "      <td>90.968</td>\n",
       "      <td>/vpbaStTMt8qqXaEgnOR2EE4DNJk.jpg</td>\n",
       "      <td>The greatest adventure is just getting back home.</td>\n",
       "      <td>Animation, Comedy, Family, Adventure</td>\n",
       "      <td>Pixar</td>\n",
       "      <td>United States of America</td>\n",
       "      <td>English</td>\n",
       "    </tr>\n",
       "    <tr>\n",
       "      <th>2</th>\n",
       "      <td>12</td>\n",
       "      <td>Finding Nemo</td>\n",
       "      <td>7.824</td>\n",
       "      <td>18061</td>\n",
       "      <td>Released</td>\n",
       "      <td>2003-05-30</td>\n",
       "      <td>940335536</td>\n",
       "      <td>100</td>\n",
       "      <td>False</td>\n",
       "      <td>/h3uqFk7sZRJvLZDdLiFB9qwbL07.jpg</td>\n",
       "      <td>...</td>\n",
       "      <td>en</td>\n",
       "      <td>Finding Nemo</td>\n",
       "      <td>Nemo, an adventurous young clownfish, is unexp...</td>\n",
       "      <td>55.456</td>\n",
       "      <td>/ggQ6o8X5984OCh3kZi2UIJQJY5y.jpg</td>\n",
       "      <td>There are 3.7 trillion fish in the ocean. They...</td>\n",
       "      <td>Animation, Family</td>\n",
       "      <td>Pixar</td>\n",
       "      <td>United States of America</td>\n",
       "      <td>English</td>\n",
       "    </tr>\n",
       "    <tr>\n",
       "      <th>3</th>\n",
       "      <td>354912</td>\n",
       "      <td>Coco</td>\n",
       "      <td>8.222</td>\n",
       "      <td>17742</td>\n",
       "      <td>Released</td>\n",
       "      <td>2017-10-27</td>\n",
       "      <td>800526015</td>\n",
       "      <td>105</td>\n",
       "      <td>False</td>\n",
       "      <td>/askg3SMvhqEl4OL52YuvdtY40Yb.jpg</td>\n",
       "      <td>...</td>\n",
       "      <td>en</td>\n",
       "      <td>Coco</td>\n",
       "      <td>Despite his family’s baffling generations-old ...</td>\n",
       "      <td>166.578</td>\n",
       "      <td>/gGEsBPAijhVUFoiNpgZXqRVWJt2.jpg</td>\n",
       "      <td>The celebration of a lifetime</td>\n",
       "      <td>Family, Animation, Fantasy, Music, Comedy, Adv...</td>\n",
       "      <td>Pixar, Walt Disney Pictures</td>\n",
       "      <td>United States of America</td>\n",
       "      <td>English, Spanish</td>\n",
       "    </tr>\n",
       "    <tr>\n",
       "      <th>4</th>\n",
       "      <td>10681</td>\n",
       "      <td>WALL·E</td>\n",
       "      <td>8.078</td>\n",
       "      <td>17446</td>\n",
       "      <td>Released</td>\n",
       "      <td>2008-06-22</td>\n",
       "      <td>521311860</td>\n",
       "      <td>98</td>\n",
       "      <td>False</td>\n",
       "      <td>/fK5ssgvtI43z19FoWigdlqgpLRE.jpg</td>\n",
       "      <td>...</td>\n",
       "      <td>en</td>\n",
       "      <td>WALL·E</td>\n",
       "      <td>What if mankind had to leave Earth and somebod...</td>\n",
       "      <td>58.517</td>\n",
       "      <td>/hbhFnRzzg6ZDmm8YAmxBnQpQIPh.jpg</td>\n",
       "      <td>After 700 years of doing what he was built for...</td>\n",
       "      <td>Animation, Family, Science Fiction</td>\n",
       "      <td>Pixar, Walt Disney Pictures</td>\n",
       "      <td>United States of America</td>\n",
       "      <td>English</td>\n",
       "    </tr>\n",
       "    <tr>\n",
       "      <th>...</th>\n",
       "      <td>...</td>\n",
       "      <td>...</td>\n",
       "      <td>...</td>\n",
       "      <td>...</td>\n",
       "      <td>...</td>\n",
       "      <td>...</td>\n",
       "      <td>...</td>\n",
       "      <td>...</td>\n",
       "      <td>...</td>\n",
       "      <td>...</td>\n",
       "      <td>...</td>\n",
       "      <td>...</td>\n",
       "      <td>...</td>\n",
       "      <td>...</td>\n",
       "      <td>...</td>\n",
       "      <td>...</td>\n",
       "      <td>...</td>\n",
       "      <td>...</td>\n",
       "      <td>...</td>\n",
       "      <td>...</td>\n",
       "      <td>...</td>\n",
       "    </tr>\n",
       "    <tr>\n",
       "      <th>51940</th>\n",
       "      <td>656677</td>\n",
       "      <td>Белозубка</td>\n",
       "      <td>0.000</td>\n",
       "      <td>0</td>\n",
       "      <td>Released</td>\n",
       "      <td>2018-12-20</td>\n",
       "      <td>0</td>\n",
       "      <td>0</td>\n",
       "      <td>False</td>\n",
       "      <td>NaN</td>\n",
       "      <td>...</td>\n",
       "      <td>ru</td>\n",
       "      <td>Белозубка</td>\n",
       "      <td>NaN</td>\n",
       "      <td>0.600</td>\n",
       "      <td>/r9rYEqBVJIHDUZZPyCkstkiM8Z2.jpg</td>\n",
       "      <td>NaN</td>\n",
       "      <td>Animation</td>\n",
       "      <td>NaN</td>\n",
       "      <td>Russia</td>\n",
       "      <td>NaN</td>\n",
       "    </tr>\n",
       "    <tr>\n",
       "      <th>51941</th>\n",
       "      <td>657149</td>\n",
       "      <td>Shimajiro to Ururu no Heroland</td>\n",
       "      <td>0.000</td>\n",
       "      <td>0</td>\n",
       "      <td>Released</td>\n",
       "      <td>2019-03-15</td>\n",
       "      <td>0</td>\n",
       "      <td>60</td>\n",
       "      <td>False</td>\n",
       "      <td>/jQMHu7B7LOY3R2PNJA4bBahEewN.jpg</td>\n",
       "      <td>...</td>\n",
       "      <td>ja</td>\n",
       "      <td>映画しまじろう しまじろうとうるるのヒーローランド</td>\n",
       "      <td>Hero Land is a world where you can meet the he...</td>\n",
       "      <td>2.531</td>\n",
       "      <td>/yGthNH49g4ezKLrn6cUNKygcbtz.jpg</td>\n",
       "      <td>NaN</td>\n",
       "      <td>Family, Animation, Fantasy</td>\n",
       "      <td>Benesse, Sony Music Direct, TOHO, The Answer S...</td>\n",
       "      <td>Japan</td>\n",
       "      <td>Japanese, English, Mandarin</td>\n",
       "    </tr>\n",
       "    <tr>\n",
       "      <th>51942</th>\n",
       "      <td>656945</td>\n",
       "      <td>Robo Force: The Revenge of Nazgar</td>\n",
       "      <td>0.000</td>\n",
       "      <td>0</td>\n",
       "      <td>Released</td>\n",
       "      <td>1984-12-08</td>\n",
       "      <td>0</td>\n",
       "      <td>22</td>\n",
       "      <td>False</td>\n",
       "      <td>NaN</td>\n",
       "      <td>...</td>\n",
       "      <td>en</td>\n",
       "      <td>Robo Force: The Revenge of Nazgar</td>\n",
       "      <td>TV Short for Robo Force, included in Challenge...</td>\n",
       "      <td>1.952</td>\n",
       "      <td>/2l6C7P7zFE5WaLdpyzayYfWdIbW.jpg</td>\n",
       "      <td>NaN</td>\n",
       "      <td>Animation, Action, Science Fiction</td>\n",
       "      <td>NaN</td>\n",
       "      <td>NaN</td>\n",
       "      <td>English</td>\n",
       "    </tr>\n",
       "    <tr>\n",
       "      <th>51943</th>\n",
       "      <td>656893</td>\n",
       "      <td>Beginning Responsibility: A Lunchroom Goes Ban...</td>\n",
       "      <td>0.000</td>\n",
       "      <td>0</td>\n",
       "      <td>Released</td>\n",
       "      <td>1978-01-01</td>\n",
       "      <td>0</td>\n",
       "      <td>12</td>\n",
       "      <td>False</td>\n",
       "      <td>NaN</td>\n",
       "      <td>...</td>\n",
       "      <td>en</td>\n",
       "      <td>Beginning Responsibility: A Lunchroom Goes Ban...</td>\n",
       "      <td>The food in Plumcrest School Cafeteria has gon...</td>\n",
       "      <td>0.600</td>\n",
       "      <td>NaN</td>\n",
       "      <td>NaN</td>\n",
       "      <td>Animation, Documentary, Family</td>\n",
       "      <td>Coronet Films</td>\n",
       "      <td>NaN</td>\n",
       "      <td>English</td>\n",
       "    </tr>\n",
       "    <tr>\n",
       "      <th>51944</th>\n",
       "      <td>656966</td>\n",
       "      <td>Natural Selection</td>\n",
       "      <td>0.000</td>\n",
       "      <td>0</td>\n",
       "      <td>Released</td>\n",
       "      <td>2019-08-20</td>\n",
       "      <td>0</td>\n",
       "      <td>10</td>\n",
       "      <td>False</td>\n",
       "      <td>NaN</td>\n",
       "      <td>...</td>\n",
       "      <td>bs</td>\n",
       "      <td>Prirodni odabir</td>\n",
       "      <td>Woman-Doe is a living sculpture trapped in urb...</td>\n",
       "      <td>0.600</td>\n",
       "      <td>/sC6Zo37mqJ3Lf4xTXJTJy02mC67.jpg</td>\n",
       "      <td>NaN</td>\n",
       "      <td>Animation</td>\n",
       "      <td>Studio Neum, Zagreb Film</td>\n",
       "      <td>Bosnia and Herzegovina, Croatia</td>\n",
       "      <td>Bosnian</td>\n",
       "    </tr>\n",
       "  </tbody>\n",
       "</table>\n",
       "<p>51945 rows × 23 columns</p>\n",
       "</div>"
      ],
      "text/plain": [
       "           id                                              title  \\\n",
       "0      150540                                         Inside Out   \n",
       "1       14160                                                 Up   \n",
       "2          12                                       Finding Nemo   \n",
       "3      354912                                               Coco   \n",
       "4       10681                                             WALL·E   \n",
       "...       ...                                                ...   \n",
       "51940  656677                                          Белозубка   \n",
       "51941  657149                     Shimajiro to Ururu no Heroland   \n",
       "51942  656945                  Robo Force: The Revenge of Nazgar   \n",
       "51943  656893  Beginning Responsibility: A Lunchroom Goes Ban...   \n",
       "51944  656966                                  Natural Selection   \n",
       "\n",
       "       vote_average  vote_count    status release_date    revenue  runtime  \\\n",
       "0             7.922       19463  Released   2015-06-09  857611174       95   \n",
       "1             7.949       18857  Released   2009-05-28  735099082       96   \n",
       "2             7.824       18061  Released   2003-05-30  940335536      100   \n",
       "3             8.222       17742  Released   2017-10-27  800526015      105   \n",
       "4             8.078       17446  Released   2008-06-22  521311860       98   \n",
       "...             ...         ...       ...          ...        ...      ...   \n",
       "51940         0.000           0  Released   2018-12-20          0        0   \n",
       "51941         0.000           0  Released   2019-03-15          0       60   \n",
       "51942         0.000           0  Released   1984-12-08          0       22   \n",
       "51943         0.000           0  Released   1978-01-01          0       12   \n",
       "51944         0.000           0  Released   2019-08-20          0       10   \n",
       "\n",
       "       adult                     backdrop_path  ...  original_language  \\\n",
       "0      False  /j29ekbcLpBvxnGk6LjdTc2EI5SA.jpg  ...                 en   \n",
       "1      False  /hGGC9gKo7CFE3fW07RA587e5kol.jpg  ...                 en   \n",
       "2      False  /h3uqFk7sZRJvLZDdLiFB9qwbL07.jpg  ...                 en   \n",
       "3      False  /askg3SMvhqEl4OL52YuvdtY40Yb.jpg  ...                 en   \n",
       "4      False  /fK5ssgvtI43z19FoWigdlqgpLRE.jpg  ...                 en   \n",
       "...      ...                               ...  ...                ...   \n",
       "51940  False                               NaN  ...                 ru   \n",
       "51941  False  /jQMHu7B7LOY3R2PNJA4bBahEewN.jpg  ...                 ja   \n",
       "51942  False                               NaN  ...                 en   \n",
       "51943  False                               NaN  ...                 en   \n",
       "51944  False                               NaN  ...                 bs   \n",
       "\n",
       "                                          original_title  \\\n",
       "0                                             Inside Out   \n",
       "1                                                     Up   \n",
       "2                                           Finding Nemo   \n",
       "3                                                   Coco   \n",
       "4                                                 WALL·E   \n",
       "...                                                  ...   \n",
       "51940                                          Белозубка   \n",
       "51941                          映画しまじろう しまじろうとうるるのヒーローランド   \n",
       "51942                  Robo Force: The Revenge of Nazgar   \n",
       "51943  Beginning Responsibility: A Lunchroom Goes Ban...   \n",
       "51944                                    Prirodni odabir   \n",
       "\n",
       "                                                overview popularity  \\\n",
       "0      Growing up can be a bumpy road, and it's no ex...    107.292   \n",
       "1      Carl Fredricksen spent his entire life dreamin...     90.968   \n",
       "2      Nemo, an adventurous young clownfish, is unexp...     55.456   \n",
       "3      Despite his family’s baffling generations-old ...    166.578   \n",
       "4      What if mankind had to leave Earth and somebod...     58.517   \n",
       "...                                                  ...        ...   \n",
       "51940                                                NaN      0.600   \n",
       "51941  Hero Land is a world where you can meet the he...      2.531   \n",
       "51942  TV Short for Robo Force, included in Challenge...      1.952   \n",
       "51943  The food in Plumcrest School Cafeteria has gon...      0.600   \n",
       "51944  Woman-Doe is a living sculpture trapped in urb...      0.600   \n",
       "\n",
       "                            poster_path  \\\n",
       "0      /2H1TmgdfNtsKlU9jKdeNyYL5y8T.jpg   \n",
       "1      /vpbaStTMt8qqXaEgnOR2EE4DNJk.jpg   \n",
       "2      /ggQ6o8X5984OCh3kZi2UIJQJY5y.jpg   \n",
       "3      /gGEsBPAijhVUFoiNpgZXqRVWJt2.jpg   \n",
       "4      /hbhFnRzzg6ZDmm8YAmxBnQpQIPh.jpg   \n",
       "...                                 ...   \n",
       "51940  /r9rYEqBVJIHDUZZPyCkstkiM8Z2.jpg   \n",
       "51941  /yGthNH49g4ezKLrn6cUNKygcbtz.jpg   \n",
       "51942  /2l6C7P7zFE5WaLdpyzayYfWdIbW.jpg   \n",
       "51943                               NaN   \n",
       "51944  /sC6Zo37mqJ3Lf4xTXJTJy02mC67.jpg   \n",
       "\n",
       "                                                 tagline  \\\n",
       "0               Meet the little voices inside your head.   \n",
       "1      The greatest adventure is just getting back home.   \n",
       "2      There are 3.7 trillion fish in the ocean. They...   \n",
       "3                          The celebration of a lifetime   \n",
       "4      After 700 years of doing what he was built for...   \n",
       "...                                                  ...   \n",
       "51940                                                NaN   \n",
       "51941                                                NaN   \n",
       "51942                                                NaN   \n",
       "51943                                                NaN   \n",
       "51944                                                NaN   \n",
       "\n",
       "                                                  genres  \\\n",
       "0            Animation, Family, Adventure, Drama, Comedy   \n",
       "1                   Animation, Comedy, Family, Adventure   \n",
       "2                                      Animation, Family   \n",
       "3      Family, Animation, Fantasy, Music, Comedy, Adv...   \n",
       "4                     Animation, Family, Science Fiction   \n",
       "...                                                  ...   \n",
       "51940                                          Animation   \n",
       "51941                         Family, Animation, Fantasy   \n",
       "51942                 Animation, Action, Science Fiction   \n",
       "51943                     Animation, Documentary, Family   \n",
       "51944                                          Animation   \n",
       "\n",
       "                                    production_companies  \\\n",
       "0                            Pixar, Walt Disney Pictures   \n",
       "1                                                  Pixar   \n",
       "2                                                  Pixar   \n",
       "3                            Pixar, Walt Disney Pictures   \n",
       "4                            Pixar, Walt Disney Pictures   \n",
       "...                                                  ...   \n",
       "51940                                                NaN   \n",
       "51941  Benesse, Sony Music Direct, TOHO, The Answer S...   \n",
       "51942                                                NaN   \n",
       "51943                                      Coronet Films   \n",
       "51944                           Studio Neum, Zagreb Film   \n",
       "\n",
       "                  production_countries             spoken_languages  \n",
       "0             United States of America                      English  \n",
       "1             United States of America                      English  \n",
       "2             United States of America                      English  \n",
       "3             United States of America             English, Spanish  \n",
       "4             United States of America                      English  \n",
       "...                                ...                          ...  \n",
       "51940                           Russia                          NaN  \n",
       "51941                            Japan  Japanese, English, Mandarin  \n",
       "51942                              NaN                      English  \n",
       "51943                              NaN                      English  \n",
       "51944  Bosnia and Herzegovina, Croatia                      Bosnian  \n",
       "\n",
       "[51945 rows x 23 columns]"
      ]
     },
     "execution_count": 1,
     "metadata": {},
     "output_type": "execute_result"
    }
   ],
   "source": [
    "import pandas as pd\n",
    "import numpy as np\n",
    "import seaborn as sns\n",
    "from matplotlib import pyplot as plt\n",
    "\n",
    "df = pd.read_csv(\"D:\\Animation_Movies.csv\")\n",
    "df"
   ]
  },
  {
   "cell_type": "code",
   "execution_count": null,
   "id": "695baeb5-0a30-4a38-aebc-4b37a83e6cbc",
   "metadata": {},
   "outputs": [],
   "source": []
  },
  {
   "cell_type": "code",
   "execution_count": 5,
   "id": "1f19b748-43a1-4c87-85fe-b1cf5d141e9d",
   "metadata": {
    "tags": []
   },
   "outputs": [
    {
     "data": {
      "text/plain": [
       "(51945, 23)"
      ]
     },
     "execution_count": 5,
     "metadata": {},
     "output_type": "execute_result"
    }
   ],
   "source": [
    "df.shape"
   ]
  },
  {
   "cell_type": "code",
   "execution_count": 3,
   "id": "5af04481-a8f8-4759-b8ad-3854fa58eb4a",
   "metadata": {
    "tags": []
   },
   "outputs": [
    {
     "name": "stdout",
     "output_type": "stream",
     "text": [
      "<class 'pandas.core.frame.DataFrame'>\n",
      "RangeIndex: 51945 entries, 0 to 51944\n",
      "Data columns (total 23 columns):\n",
      " #   Column                Non-Null Count  Dtype  \n",
      "---  ------                --------------  -----  \n",
      " 0   id                    51945 non-null  int64  \n",
      " 1   title                 51944 non-null  object \n",
      " 2   vote_average          51945 non-null  float64\n",
      " 3   vote_count            51945 non-null  int64  \n",
      " 4   status                51945 non-null  object \n",
      " 5   release_date          49808 non-null  object \n",
      " 6   revenue               51945 non-null  int64  \n",
      " 7   runtime               51945 non-null  int64  \n",
      " 8   adult                 51945 non-null  bool   \n",
      " 9   backdrop_path         15835 non-null  object \n",
      " 10  budget                51945 non-null  int64  \n",
      " 11  homepage              8253 non-null   object \n",
      " 12  imdb_id               29552 non-null  object \n",
      " 13  original_language     51945 non-null  object \n",
      " 14  original_title        51944 non-null  object \n",
      " 15  overview              45866 non-null  object \n",
      " 16  popularity            51945 non-null  float64\n",
      " 17  poster_path           37934 non-null  object \n",
      " 18  tagline               4678 non-null   object \n",
      " 19  genres                51945 non-null  object \n",
      " 20  production_companies  29398 non-null  object \n",
      " 21  production_countries  39700 non-null  object \n",
      " 22  spoken_languages      33818 non-null  object \n",
      "dtypes: bool(1), float64(2), int64(5), object(15)\n",
      "memory usage: 8.8+ MB\n"
     ]
    }
   ],
   "source": [
    "df.info()"
   ]
  },
  {
   "cell_type": "code",
   "execution_count": 4,
   "id": "1066a8cc-4346-42c8-a64e-1fa2fa95a7f5",
   "metadata": {
    "tags": []
   },
   "outputs": [
    {
     "data": {
      "text/plain": [
       "0        False\n",
       "1        False\n",
       "2        False\n",
       "3        False\n",
       "4        False\n",
       "         ...  \n",
       "51940    False\n",
       "51941    False\n",
       "51942    False\n",
       "51943    False\n",
       "51944    False\n",
       "Length: 51945, dtype: bool"
      ]
     },
     "execution_count": 4,
     "metadata": {},
     "output_type": "execute_result"
    }
   ],
   "source": [
    "df.duplicated()"
   ]
  },
  {
   "cell_type": "code",
   "execution_count": 5,
   "id": "01dc41cf-327f-4c11-b359-f06168d8b251",
   "metadata": {
    "tags": []
   },
   "outputs": [
    {
     "name": "stdout",
     "output_type": "stream",
     "text": [
      "           id                                              title  vote_count  \\\n",
      "0      150540                                         Inside Out       19463   \n",
      "1       14160                                                 Up       18857   \n",
      "2          12                                       Finding Nemo       18061   \n",
      "3      354912                                               Coco       17742   \n",
      "4       10681                                             WALL·E       17446   \n",
      "...       ...                                                ...         ...   \n",
      "51940  656677                                          Белозубка           0   \n",
      "51941  657149                     Shimajiro to Ururu no Heroland           0   \n",
      "51942  656945                  Robo Force: The Revenge of Nazgar           0   \n",
      "51943  656893  Beginning Responsibility: A Lunchroom Goes Ban...           0   \n",
      "51944  656966                                  Natural Selection           0   \n",
      "\n",
      "      release_date    revenue  runtime     budget  \\\n",
      "0         6/9/2015  857611174       95  175000000   \n",
      "1        5/28/2009  735099082       96  175000000   \n",
      "2        5/30/2003  940335536      100   94000000   \n",
      "3       10/27/2017  800526015      105  175000000   \n",
      "4        6/22/2008  521311860       98  180000000   \n",
      "...            ...        ...      ...        ...   \n",
      "51940   12/20/2018          0        0          0   \n",
      "51941    3/15/2019          0       60          0   \n",
      "51942    12/8/1984          0       22          0   \n",
      "51943     1/1/1978          0       12          0   \n",
      "51944    8/20/2019          0       10          0   \n",
      "\n",
      "                                            homepage     imdb_id  \\\n",
      "0                http://movies.disney.com/inside-out   tt2096673   \n",
      "1            http://disney.go.com/disneypictures/up/   tt1049413   \n",
      "2              http://movies.disney.com/finding-nemo   tt0266543   \n",
      "3           https://www.pixar.com/feature-films/coco   tt2380307   \n",
      "4         https://www.pixar.com/feature-films/walle/   tt0910970   \n",
      "...                                              ...         ...   \n",
      "51940                                            NaN         NaN   \n",
      "51941  https://kodomo.benesse.ne.jp/open/movie/2019/  tt11407890   \n",
      "51942                                            NaN   tt1734583   \n",
      "51943                                            NaN         NaN   \n",
      "51944                                            NaN         NaN   \n",
      "\n",
      "      original_language                                             genres  \\\n",
      "0                    en        Animation, Family, Adventure, Drama, Comedy   \n",
      "1                    en               Animation, Comedy, Family, Adventure   \n",
      "2                    en                                  Animation, Family   \n",
      "3                    en  Family, Animation, Fantasy, Music, Comedy, Adv...   \n",
      "4                    en                 Animation, Family, Science Fiction   \n",
      "...                 ...                                                ...   \n",
      "51940                ru                                          Animation   \n",
      "51941                ja                         Family, Animation, Fantasy   \n",
      "51942                en                 Animation, Action, Science Fiction   \n",
      "51943                en                     Animation, Documentary, Family   \n",
      "51944                bs                                          Animation   \n",
      "\n",
      "                                    production_companies  \n",
      "0                            Pixar, Walt Disney Pictures  \n",
      "1                                                  Pixar  \n",
      "2                                                  Pixar  \n",
      "3                            Pixar, Walt Disney Pictures  \n",
      "4                            Pixar, Walt Disney Pictures  \n",
      "...                                                  ...  \n",
      "51940                                                NaN  \n",
      "51941  Benesse, Sony Music Direct, TOHO, The Answer S...  \n",
      "51942                                                NaN  \n",
      "51943                                      Coronet Films  \n",
      "51944                           Studio Neum, Zagreb Film  \n",
      "\n",
      "[51945 rows x 12 columns]\n"
     ]
    }
   ],
   "source": [
    "df.drop(['vote_average','status','adult','backdrop_path','original_title','overview','popularity','poster_path','tagline','production_countries','spoken_languages'\n",
    " ], axis=1, inplace=True)\n",
    "print(df)"
   ]
  },
  {
   "cell_type": "code",
   "execution_count": 6,
   "id": "8ca68653-65f2-400e-97eb-272c2fba1198",
   "metadata": {
    "tags": []
   },
   "outputs": [
    {
     "data": {
      "text/html": [
       "<div>\n",
       "<style scoped>\n",
       "    .dataframe tbody tr th:only-of-type {\n",
       "        vertical-align: middle;\n",
       "    }\n",
       "\n",
       "    .dataframe tbody tr th {\n",
       "        vertical-align: top;\n",
       "    }\n",
       "\n",
       "    .dataframe thead th {\n",
       "        text-align: right;\n",
       "    }\n",
       "</style>\n",
       "<table border=\"1\" class=\"dataframe\">\n",
       "  <thead>\n",
       "    <tr style=\"text-align: right;\">\n",
       "      <th></th>\n",
       "      <th>id</th>\n",
       "      <th>title</th>\n",
       "      <th>vote_count</th>\n",
       "      <th>release_date</th>\n",
       "      <th>revenue</th>\n",
       "      <th>runtime</th>\n",
       "      <th>budget</th>\n",
       "      <th>homepage</th>\n",
       "      <th>imdb_id</th>\n",
       "      <th>original_language</th>\n",
       "      <th>genres</th>\n",
       "      <th>production_companies</th>\n",
       "    </tr>\n",
       "  </thead>\n",
       "  <tbody>\n",
       "    <tr>\n",
       "      <th>0</th>\n",
       "      <td>150540</td>\n",
       "      <td>Inside Out</td>\n",
       "      <td>19463</td>\n",
       "      <td>6/9/2015</td>\n",
       "      <td>857611174</td>\n",
       "      <td>95</td>\n",
       "      <td>175000000</td>\n",
       "      <td>http://movies.disney.com/inside-out</td>\n",
       "      <td>tt2096673</td>\n",
       "      <td>en</td>\n",
       "      <td>Animation, Family, Adventure, Drama, Comedy</td>\n",
       "      <td>Pixar, Walt Disney Pictures</td>\n",
       "    </tr>\n",
       "    <tr>\n",
       "      <th>1</th>\n",
       "      <td>14160</td>\n",
       "      <td>Up</td>\n",
       "      <td>18857</td>\n",
       "      <td>5/28/2009</td>\n",
       "      <td>735099082</td>\n",
       "      <td>96</td>\n",
       "      <td>175000000</td>\n",
       "      <td>http://disney.go.com/disneypictures/up/</td>\n",
       "      <td>tt1049413</td>\n",
       "      <td>en</td>\n",
       "      <td>Animation, Comedy, Family, Adventure</td>\n",
       "      <td>Pixar</td>\n",
       "    </tr>\n",
       "    <tr>\n",
       "      <th>2</th>\n",
       "      <td>12</td>\n",
       "      <td>Finding Nemo</td>\n",
       "      <td>18061</td>\n",
       "      <td>5/30/2003</td>\n",
       "      <td>940335536</td>\n",
       "      <td>100</td>\n",
       "      <td>94000000</td>\n",
       "      <td>http://movies.disney.com/finding-nemo</td>\n",
       "      <td>tt0266543</td>\n",
       "      <td>en</td>\n",
       "      <td>Animation, Family</td>\n",
       "      <td>Pixar</td>\n",
       "    </tr>\n",
       "    <tr>\n",
       "      <th>3</th>\n",
       "      <td>354912</td>\n",
       "      <td>Coco</td>\n",
       "      <td>17742</td>\n",
       "      <td>10/27/2017</td>\n",
       "      <td>800526015</td>\n",
       "      <td>105</td>\n",
       "      <td>175000000</td>\n",
       "      <td>https://www.pixar.com/feature-films/coco</td>\n",
       "      <td>tt2380307</td>\n",
       "      <td>en</td>\n",
       "      <td>Family, Animation, Fantasy, Music, Comedy, Adv...</td>\n",
       "      <td>Pixar, Walt Disney Pictures</td>\n",
       "    </tr>\n",
       "    <tr>\n",
       "      <th>4</th>\n",
       "      <td>10681</td>\n",
       "      <td>WALL·E</td>\n",
       "      <td>17446</td>\n",
       "      <td>6/22/2008</td>\n",
       "      <td>521311860</td>\n",
       "      <td>98</td>\n",
       "      <td>180000000</td>\n",
       "      <td>https://www.pixar.com/feature-films/walle/</td>\n",
       "      <td>tt0910970</td>\n",
       "      <td>en</td>\n",
       "      <td>Animation, Family, Science Fiction</td>\n",
       "      <td>Pixar, Walt Disney Pictures</td>\n",
       "    </tr>\n",
       "  </tbody>\n",
       "</table>\n",
       "</div>"
      ],
      "text/plain": [
       "       id         title  vote_count release_date    revenue  runtime  \\\n",
       "0  150540    Inside Out       19463     6/9/2015  857611174       95   \n",
       "1   14160            Up       18857    5/28/2009  735099082       96   \n",
       "2      12  Finding Nemo       18061    5/30/2003  940335536      100   \n",
       "3  354912          Coco       17742   10/27/2017  800526015      105   \n",
       "4   10681        WALL·E       17446    6/22/2008  521311860       98   \n",
       "\n",
       "      budget                                    homepage    imdb_id  \\\n",
       "0  175000000         http://movies.disney.com/inside-out  tt2096673   \n",
       "1  175000000     http://disney.go.com/disneypictures/up/  tt1049413   \n",
       "2   94000000       http://movies.disney.com/finding-nemo  tt0266543   \n",
       "3  175000000    https://www.pixar.com/feature-films/coco  tt2380307   \n",
       "4  180000000  https://www.pixar.com/feature-films/walle/  tt0910970   \n",
       "\n",
       "  original_language                                             genres  \\\n",
       "0                en        Animation, Family, Adventure, Drama, Comedy   \n",
       "1                en               Animation, Comedy, Family, Adventure   \n",
       "2                en                                  Animation, Family   \n",
       "3                en  Family, Animation, Fantasy, Music, Comedy, Adv...   \n",
       "4                en                 Animation, Family, Science Fiction   \n",
       "\n",
       "          production_companies  \n",
       "0  Pixar, Walt Disney Pictures  \n",
       "1                        Pixar  \n",
       "2                        Pixar  \n",
       "3  Pixar, Walt Disney Pictures  \n",
       "4  Pixar, Walt Disney Pictures  "
      ]
     },
     "execution_count": 6,
     "metadata": {},
     "output_type": "execute_result"
    }
   ],
   "source": [
    "df.head()"
   ]
  },
  {
   "cell_type": "code",
   "execution_count": 7,
   "id": "7a1c9f2f-1a82-4595-87a1-f092c0dc950b",
   "metadata": {
    "tags": []
   },
   "outputs": [],
   "source": [
    "df.drop(['homepage','imdb_id'], axis=1, inplace=True)"
   ]
  },
  {
   "cell_type": "code",
   "execution_count": 8,
   "id": "de95b7bd-1de9-4854-baff-d84d771823bd",
   "metadata": {
    "tags": []
   },
   "outputs": [
    {
     "data": {
      "text/html": [
       "<div>\n",
       "<style scoped>\n",
       "    .dataframe tbody tr th:only-of-type {\n",
       "        vertical-align: middle;\n",
       "    }\n",
       "\n",
       "    .dataframe tbody tr th {\n",
       "        vertical-align: top;\n",
       "    }\n",
       "\n",
       "    .dataframe thead th {\n",
       "        text-align: right;\n",
       "    }\n",
       "</style>\n",
       "<table border=\"1\" class=\"dataframe\">\n",
       "  <thead>\n",
       "    <tr style=\"text-align: right;\">\n",
       "      <th></th>\n",
       "      <th>id</th>\n",
       "      <th>title</th>\n",
       "      <th>vote_count</th>\n",
       "      <th>release_date</th>\n",
       "      <th>revenue</th>\n",
       "      <th>runtime</th>\n",
       "      <th>budget</th>\n",
       "      <th>original_language</th>\n",
       "      <th>genres</th>\n",
       "      <th>production_companies</th>\n",
       "    </tr>\n",
       "  </thead>\n",
       "  <tbody>\n",
       "    <tr>\n",
       "      <th>0</th>\n",
       "      <td>150540</td>\n",
       "      <td>Inside Out</td>\n",
       "      <td>19463</td>\n",
       "      <td>6/9/2015</td>\n",
       "      <td>857611174</td>\n",
       "      <td>95</td>\n",
       "      <td>175000000</td>\n",
       "      <td>en</td>\n",
       "      <td>Animation, Family, Adventure, Drama, Comedy</td>\n",
       "      <td>Pixar, Walt Disney Pictures</td>\n",
       "    </tr>\n",
       "    <tr>\n",
       "      <th>1</th>\n",
       "      <td>14160</td>\n",
       "      <td>Up</td>\n",
       "      <td>18857</td>\n",
       "      <td>5/28/2009</td>\n",
       "      <td>735099082</td>\n",
       "      <td>96</td>\n",
       "      <td>175000000</td>\n",
       "      <td>en</td>\n",
       "      <td>Animation, Comedy, Family, Adventure</td>\n",
       "      <td>Pixar</td>\n",
       "    </tr>\n",
       "    <tr>\n",
       "      <th>2</th>\n",
       "      <td>12</td>\n",
       "      <td>Finding Nemo</td>\n",
       "      <td>18061</td>\n",
       "      <td>5/30/2003</td>\n",
       "      <td>940335536</td>\n",
       "      <td>100</td>\n",
       "      <td>94000000</td>\n",
       "      <td>en</td>\n",
       "      <td>Animation, Family</td>\n",
       "      <td>Pixar</td>\n",
       "    </tr>\n",
       "    <tr>\n",
       "      <th>3</th>\n",
       "      <td>354912</td>\n",
       "      <td>Coco</td>\n",
       "      <td>17742</td>\n",
       "      <td>10/27/2017</td>\n",
       "      <td>800526015</td>\n",
       "      <td>105</td>\n",
       "      <td>175000000</td>\n",
       "      <td>en</td>\n",
       "      <td>Family, Animation, Fantasy, Music, Comedy, Adv...</td>\n",
       "      <td>Pixar, Walt Disney Pictures</td>\n",
       "    </tr>\n",
       "    <tr>\n",
       "      <th>4</th>\n",
       "      <td>10681</td>\n",
       "      <td>WALL·E</td>\n",
       "      <td>17446</td>\n",
       "      <td>6/22/2008</td>\n",
       "      <td>521311860</td>\n",
       "      <td>98</td>\n",
       "      <td>180000000</td>\n",
       "      <td>en</td>\n",
       "      <td>Animation, Family, Science Fiction</td>\n",
       "      <td>Pixar, Walt Disney Pictures</td>\n",
       "    </tr>\n",
       "  </tbody>\n",
       "</table>\n",
       "</div>"
      ],
      "text/plain": [
       "       id         title  vote_count release_date    revenue  runtime  \\\n",
       "0  150540    Inside Out       19463     6/9/2015  857611174       95   \n",
       "1   14160            Up       18857    5/28/2009  735099082       96   \n",
       "2      12  Finding Nemo       18061    5/30/2003  940335536      100   \n",
       "3  354912          Coco       17742   10/27/2017  800526015      105   \n",
       "4   10681        WALL·E       17446    6/22/2008  521311860       98   \n",
       "\n",
       "      budget original_language  \\\n",
       "0  175000000                en   \n",
       "1  175000000                en   \n",
       "2   94000000                en   \n",
       "3  175000000                en   \n",
       "4  180000000                en   \n",
       "\n",
       "                                              genres  \\\n",
       "0        Animation, Family, Adventure, Drama, Comedy   \n",
       "1               Animation, Comedy, Family, Adventure   \n",
       "2                                  Animation, Family   \n",
       "3  Family, Animation, Fantasy, Music, Comedy, Adv...   \n",
       "4                 Animation, Family, Science Fiction   \n",
       "\n",
       "          production_companies  \n",
       "0  Pixar, Walt Disney Pictures  \n",
       "1                        Pixar  \n",
       "2                        Pixar  \n",
       "3  Pixar, Walt Disney Pictures  \n",
       "4  Pixar, Walt Disney Pictures  "
      ]
     },
     "execution_count": 8,
     "metadata": {},
     "output_type": "execute_result"
    }
   ],
   "source": [
    "df.head()"
   ]
  },
  {
   "cell_type": "code",
   "execution_count": 9,
   "id": "ffd357c5-4c54-4868-a662-7fc604ad112b",
   "metadata": {
    "tags": []
   },
   "outputs": [
    {
     "data": {
      "text/plain": [
       "(51945, 10)"
      ]
     },
     "execution_count": 9,
     "metadata": {},
     "output_type": "execute_result"
    }
   ],
   "source": [
    "df.shape"
   ]
  },
  {
   "cell_type": "code",
   "execution_count": 10,
   "id": "feff88a9-a2b0-4985-a9f0-cdc80e7ac14c",
   "metadata": {
    "tags": []
   },
   "outputs": [
    {
     "data": {
      "text/plain": [
       "<bound method DataFrame.info of            id                                              title  vote_count  \\\n",
       "0      150540                                         Inside Out       19463   \n",
       "1       14160                                                 Up       18857   \n",
       "2          12                                       Finding Nemo       18061   \n",
       "3      354912                                               Coco       17742   \n",
       "4       10681                                             WALL·E       17446   \n",
       "...       ...                                                ...         ...   \n",
       "51940  656677                                          Белозубка           0   \n",
       "51941  657149                     Shimajiro to Ururu no Heroland           0   \n",
       "51942  656945                  Robo Force: The Revenge of Nazgar           0   \n",
       "51943  656893  Beginning Responsibility: A Lunchroom Goes Ban...           0   \n",
       "51944  656966                                  Natural Selection           0   \n",
       "\n",
       "      release_date    revenue  runtime     budget original_language  \\\n",
       "0         6/9/2015  857611174       95  175000000                en   \n",
       "1        5/28/2009  735099082       96  175000000                en   \n",
       "2        5/30/2003  940335536      100   94000000                en   \n",
       "3       10/27/2017  800526015      105  175000000                en   \n",
       "4        6/22/2008  521311860       98  180000000                en   \n",
       "...            ...        ...      ...        ...               ...   \n",
       "51940   12/20/2018          0        0          0                ru   \n",
       "51941    3/15/2019          0       60          0                ja   \n",
       "51942    12/8/1984          0       22          0                en   \n",
       "51943     1/1/1978          0       12          0                en   \n",
       "51944    8/20/2019          0       10          0                bs   \n",
       "\n",
       "                                                  genres  \\\n",
       "0            Animation, Family, Adventure, Drama, Comedy   \n",
       "1                   Animation, Comedy, Family, Adventure   \n",
       "2                                      Animation, Family   \n",
       "3      Family, Animation, Fantasy, Music, Comedy, Adv...   \n",
       "4                     Animation, Family, Science Fiction   \n",
       "...                                                  ...   \n",
       "51940                                          Animation   \n",
       "51941                         Family, Animation, Fantasy   \n",
       "51942                 Animation, Action, Science Fiction   \n",
       "51943                     Animation, Documentary, Family   \n",
       "51944                                          Animation   \n",
       "\n",
       "                                    production_companies  \n",
       "0                            Pixar, Walt Disney Pictures  \n",
       "1                                                  Pixar  \n",
       "2                                                  Pixar  \n",
       "3                            Pixar, Walt Disney Pictures  \n",
       "4                            Pixar, Walt Disney Pictures  \n",
       "...                                                  ...  \n",
       "51940                                                NaN  \n",
       "51941  Benesse, Sony Music Direct, TOHO, The Answer S...  \n",
       "51942                                                NaN  \n",
       "51943                                      Coronet Films  \n",
       "51944                           Studio Neum, Zagreb Film  \n",
       "\n",
       "[51945 rows x 10 columns]>"
      ]
     },
     "execution_count": 10,
     "metadata": {},
     "output_type": "execute_result"
    }
   ],
   "source": [
    "df.info"
   ]
  },
  {
   "cell_type": "code",
   "execution_count": 11,
   "id": "d92ea671-34a1-4c32-8ada-f8cfc050ae33",
   "metadata": {
    "tags": []
   },
   "outputs": [
    {
     "name": "stdout",
     "output_type": "stream",
     "text": [
      "<class 'pandas.core.frame.DataFrame'>\n",
      "RangeIndex: 51945 entries, 0 to 51944\n",
      "Data columns (total 10 columns):\n",
      " #   Column                Non-Null Count  Dtype \n",
      "---  ------                --------------  ----- \n",
      " 0   id                    51945 non-null  int64 \n",
      " 1   title                 51944 non-null  object\n",
      " 2   vote_count            51945 non-null  int64 \n",
      " 3   release_date          49808 non-null  object\n",
      " 4   revenue               51945 non-null  int64 \n",
      " 5   runtime               51945 non-null  int64 \n",
      " 6   budget                51945 non-null  int64 \n",
      " 7   original_language     51945 non-null  object\n",
      " 8   genres                51945 non-null  object\n",
      " 9   production_companies  29398 non-null  object\n",
      "dtypes: int64(5), object(5)\n",
      "memory usage: 4.0+ MB\n"
     ]
    }
   ],
   "source": [
    "df.info()"
   ]
  },
  {
   "cell_type": "code",
   "execution_count": 12,
   "id": "97994608-3bde-4ea0-b70a-2a43ec6ba136",
   "metadata": {
    "tags": []
   },
   "outputs": [
    {
     "data": {
      "text/html": [
       "<div>\n",
       "<style scoped>\n",
       "    .dataframe tbody tr th:only-of-type {\n",
       "        vertical-align: middle;\n",
       "    }\n",
       "\n",
       "    .dataframe tbody tr th {\n",
       "        vertical-align: top;\n",
       "    }\n",
       "\n",
       "    .dataframe thead th {\n",
       "        text-align: right;\n",
       "    }\n",
       "</style>\n",
       "<table border=\"1\" class=\"dataframe\">\n",
       "  <thead>\n",
       "    <tr style=\"text-align: right;\">\n",
       "      <th></th>\n",
       "      <th>id</th>\n",
       "      <th>vote_count</th>\n",
       "      <th>revenue</th>\n",
       "      <th>runtime</th>\n",
       "      <th>budget</th>\n",
       "    </tr>\n",
       "  </thead>\n",
       "  <tbody>\n",
       "    <tr>\n",
       "      <th>count</th>\n",
       "      <td>5.194500e+04</td>\n",
       "      <td>51945.000000</td>\n",
       "      <td>5.194500e+04</td>\n",
       "      <td>51945.000000</td>\n",
       "      <td>5.194500e+04</td>\n",
       "    </tr>\n",
       "    <tr>\n",
       "      <th>mean</th>\n",
       "      <td>6.188122e+05</td>\n",
       "      <td>40.395380</td>\n",
       "      <td>1.863464e+06</td>\n",
       "      <td>20.901415</td>\n",
       "      <td>5.759513e+05</td>\n",
       "    </tr>\n",
       "    <tr>\n",
       "      <th>std</th>\n",
       "      <td>3.479748e+05</td>\n",
       "      <td>482.705948</td>\n",
       "      <td>3.049824e+07</td>\n",
       "      <td>39.016002</td>\n",
       "      <td>7.606628e+06</td>\n",
       "    </tr>\n",
       "    <tr>\n",
       "      <th>min</th>\n",
       "      <td>1.200000e+01</td>\n",
       "      <td>0.000000</td>\n",
       "      <td>0.000000e+00</td>\n",
       "      <td>0.000000</td>\n",
       "      <td>0.000000e+00</td>\n",
       "    </tr>\n",
       "    <tr>\n",
       "      <th>25%</th>\n",
       "      <td>3.300810e+05</td>\n",
       "      <td>0.000000</td>\n",
       "      <td>0.000000e+00</td>\n",
       "      <td>3.000000</td>\n",
       "      <td>0.000000e+00</td>\n",
       "    </tr>\n",
       "    <tr>\n",
       "      <th>50%</th>\n",
       "      <td>6.119150e+05</td>\n",
       "      <td>0.000000</td>\n",
       "      <td>0.000000e+00</td>\n",
       "      <td>7.000000</td>\n",
       "      <td>0.000000e+00</td>\n",
       "    </tr>\n",
       "    <tr>\n",
       "      <th>75%</th>\n",
       "      <td>9.159040e+05</td>\n",
       "      <td>2.000000</td>\n",
       "      <td>0.000000e+00</td>\n",
       "      <td>19.000000</td>\n",
       "      <td>0.000000e+00</td>\n",
       "    </tr>\n",
       "    <tr>\n",
       "      <th>max</th>\n",
       "      <td>1.238314e+06</td>\n",
       "      <td>19463.000000</td>\n",
       "      <td>1.450027e+09</td>\n",
       "      <td>3720.000000</td>\n",
       "      <td>2.600000e+08</td>\n",
       "    </tr>\n",
       "  </tbody>\n",
       "</table>\n",
       "</div>"
      ],
      "text/plain": [
       "                 id    vote_count       revenue       runtime        budget\n",
       "count  5.194500e+04  51945.000000  5.194500e+04  51945.000000  5.194500e+04\n",
       "mean   6.188122e+05     40.395380  1.863464e+06     20.901415  5.759513e+05\n",
       "std    3.479748e+05    482.705948  3.049824e+07     39.016002  7.606628e+06\n",
       "min    1.200000e+01      0.000000  0.000000e+00      0.000000  0.000000e+00\n",
       "25%    3.300810e+05      0.000000  0.000000e+00      3.000000  0.000000e+00\n",
       "50%    6.119150e+05      0.000000  0.000000e+00      7.000000  0.000000e+00\n",
       "75%    9.159040e+05      2.000000  0.000000e+00     19.000000  0.000000e+00\n",
       "max    1.238314e+06  19463.000000  1.450027e+09   3720.000000  2.600000e+08"
      ]
     },
     "execution_count": 12,
     "metadata": {},
     "output_type": "execute_result"
    }
   ],
   "source": [
    "df.describe()"
   ]
  },
  {
   "cell_type": "code",
   "execution_count": 13,
   "id": "ad5f55d7-a1cd-4850-b92e-576e089347b8",
   "metadata": {
    "tags": []
   },
   "outputs": [],
   "source": [
    "df = df.dropna()"
   ]
  },
  {
   "cell_type": "code",
   "execution_count": 14,
   "id": "e4369c04-40b2-481a-b555-581720618b6b",
   "metadata": {
    "tags": []
   },
   "outputs": [
    {
     "data": {
      "text/plain": [
       "array(['Animation, Family, Adventure, Drama, Comedy',\n",
       "       'Animation, Comedy, Family, Adventure', 'Animation, Family', ...,\n",
       "       'Animation, Fantasy, TV Movie, Family',\n",
       "       'Drama, Comedy, Adventure, Animation, Fantasy, TV Movie, Family',\n",
       "       'Drama, Comedy, Documentary, History, Animation'], dtype=object)"
      ]
     },
     "execution_count": 14,
     "metadata": {},
     "output_type": "execute_result"
    }
   ],
   "source": [
    "df['genres'].unique()"
   ]
  },
  {
   "cell_type": "code",
   "execution_count": 15,
   "id": "60f0fcd0-5724-4a79-89b4-4d4ed03fdd90",
   "metadata": {
    "tags": []
   },
   "outputs": [
    {
     "data": {
      "text/html": [
       "<div>\n",
       "<style scoped>\n",
       "    .dataframe tbody tr th:only-of-type {\n",
       "        vertical-align: middle;\n",
       "    }\n",
       "\n",
       "    .dataframe tbody tr th {\n",
       "        vertical-align: top;\n",
       "    }\n",
       "\n",
       "    .dataframe thead th {\n",
       "        text-align: right;\n",
       "    }\n",
       "</style>\n",
       "<table border=\"1\" class=\"dataframe\">\n",
       "  <thead>\n",
       "    <tr style=\"text-align: right;\">\n",
       "      <th></th>\n",
       "      <th>id</th>\n",
       "      <th>title</th>\n",
       "      <th>vote_count</th>\n",
       "      <th>release_date</th>\n",
       "      <th>revenue</th>\n",
       "      <th>runtime</th>\n",
       "      <th>budget</th>\n",
       "      <th>original_language</th>\n",
       "      <th>genres</th>\n",
       "      <th>production_companies</th>\n",
       "    </tr>\n",
       "  </thead>\n",
       "  <tbody>\n",
       "    <tr>\n",
       "      <th>0</th>\n",
       "      <td>150540</td>\n",
       "      <td>Inside Out</td>\n",
       "      <td>19463</td>\n",
       "      <td>6/9/2015</td>\n",
       "      <td>857611174</td>\n",
       "      <td>95</td>\n",
       "      <td>175000000</td>\n",
       "      <td>en</td>\n",
       "      <td>Animation, Family, Adventure, Drama, Comedy</td>\n",
       "      <td>Pixar, Walt Disney Pictures</td>\n",
       "    </tr>\n",
       "    <tr>\n",
       "      <th>1</th>\n",
       "      <td>14160</td>\n",
       "      <td>Up</td>\n",
       "      <td>18857</td>\n",
       "      <td>5/28/2009</td>\n",
       "      <td>735099082</td>\n",
       "      <td>96</td>\n",
       "      <td>175000000</td>\n",
       "      <td>en</td>\n",
       "      <td>Animation, Comedy, Family, Adventure</td>\n",
       "      <td>Pixar</td>\n",
       "    </tr>\n",
       "    <tr>\n",
       "      <th>2</th>\n",
       "      <td>12</td>\n",
       "      <td>Finding Nemo</td>\n",
       "      <td>18061</td>\n",
       "      <td>5/30/2003</td>\n",
       "      <td>940335536</td>\n",
       "      <td>100</td>\n",
       "      <td>94000000</td>\n",
       "      <td>en</td>\n",
       "      <td>Animation, Family</td>\n",
       "      <td>Pixar</td>\n",
       "    </tr>\n",
       "    <tr>\n",
       "      <th>3</th>\n",
       "      <td>354912</td>\n",
       "      <td>Coco</td>\n",
       "      <td>17742</td>\n",
       "      <td>10/27/2017</td>\n",
       "      <td>800526015</td>\n",
       "      <td>105</td>\n",
       "      <td>175000000</td>\n",
       "      <td>en</td>\n",
       "      <td>Family, Animation, Fantasy, Music, Comedy, Adv...</td>\n",
       "      <td>Pixar, Walt Disney Pictures</td>\n",
       "    </tr>\n",
       "    <tr>\n",
       "      <th>4</th>\n",
       "      <td>10681</td>\n",
       "      <td>WALL·E</td>\n",
       "      <td>17446</td>\n",
       "      <td>6/22/2008</td>\n",
       "      <td>521311860</td>\n",
       "      <td>98</td>\n",
       "      <td>180000000</td>\n",
       "      <td>en</td>\n",
       "      <td>Animation, Family, Science Fiction</td>\n",
       "      <td>Pixar, Walt Disney Pictures</td>\n",
       "    </tr>\n",
       "    <tr>\n",
       "      <th>...</th>\n",
       "      <td>...</td>\n",
       "      <td>...</td>\n",
       "      <td>...</td>\n",
       "      <td>...</td>\n",
       "      <td>...</td>\n",
       "      <td>...</td>\n",
       "      <td>...</td>\n",
       "      <td>...</td>\n",
       "      <td>...</td>\n",
       "      <td>...</td>\n",
       "    </tr>\n",
       "    <tr>\n",
       "      <th>51934</th>\n",
       "      <td>657684</td>\n",
       "      <td>Story of the Christmas Toys</td>\n",
       "      <td>0</td>\n",
       "      <td>12/24/1990</td>\n",
       "      <td>0</td>\n",
       "      <td>22</td>\n",
       "      <td>0</td>\n",
       "      <td>en</td>\n",
       "      <td>Animation, Family</td>\n",
       "      <td>Leeway Sound</td>\n",
       "    </tr>\n",
       "    <tr>\n",
       "      <th>51939</th>\n",
       "      <td>656671</td>\n",
       "      <td>Migrante</td>\n",
       "      <td>0</td>\n",
       "      <td>6/26/2019</td>\n",
       "      <td>0</td>\n",
       "      <td>6</td>\n",
       "      <td>0</td>\n",
       "      <td>en</td>\n",
       "      <td>Animation</td>\n",
       "      <td>ANIMA LATINA</td>\n",
       "    </tr>\n",
       "    <tr>\n",
       "      <th>51941</th>\n",
       "      <td>657149</td>\n",
       "      <td>Shimajiro to Ururu no Heroland</td>\n",
       "      <td>0</td>\n",
       "      <td>3/15/2019</td>\n",
       "      <td>0</td>\n",
       "      <td>60</td>\n",
       "      <td>0</td>\n",
       "      <td>ja</td>\n",
       "      <td>Family, Animation, Fantasy</td>\n",
       "      <td>Benesse, Sony Music Direct, TOHO, The Answer S...</td>\n",
       "    </tr>\n",
       "    <tr>\n",
       "      <th>51943</th>\n",
       "      <td>656893</td>\n",
       "      <td>Beginning Responsibility: A Lunchroom Goes Ban...</td>\n",
       "      <td>0</td>\n",
       "      <td>1/1/1978</td>\n",
       "      <td>0</td>\n",
       "      <td>12</td>\n",
       "      <td>0</td>\n",
       "      <td>en</td>\n",
       "      <td>Animation, Documentary, Family</td>\n",
       "      <td>Coronet Films</td>\n",
       "    </tr>\n",
       "    <tr>\n",
       "      <th>51944</th>\n",
       "      <td>656966</td>\n",
       "      <td>Natural Selection</td>\n",
       "      <td>0</td>\n",
       "      <td>8/20/2019</td>\n",
       "      <td>0</td>\n",
       "      <td>10</td>\n",
       "      <td>0</td>\n",
       "      <td>bs</td>\n",
       "      <td>Animation</td>\n",
       "      <td>Studio Neum, Zagreb Film</td>\n",
       "    </tr>\n",
       "  </tbody>\n",
       "</table>\n",
       "<p>28618 rows × 10 columns</p>\n",
       "</div>"
      ],
      "text/plain": [
       "           id                                              title  vote_count  \\\n",
       "0      150540                                         Inside Out       19463   \n",
       "1       14160                                                 Up       18857   \n",
       "2          12                                       Finding Nemo       18061   \n",
       "3      354912                                               Coco       17742   \n",
       "4       10681                                             WALL·E       17446   \n",
       "...       ...                                                ...         ...   \n",
       "51934  657684                        Story of the Christmas Toys           0   \n",
       "51939  656671                                           Migrante           0   \n",
       "51941  657149                     Shimajiro to Ururu no Heroland           0   \n",
       "51943  656893  Beginning Responsibility: A Lunchroom Goes Ban...           0   \n",
       "51944  656966                                  Natural Selection           0   \n",
       "\n",
       "      release_date    revenue  runtime     budget original_language  \\\n",
       "0         6/9/2015  857611174       95  175000000                en   \n",
       "1        5/28/2009  735099082       96  175000000                en   \n",
       "2        5/30/2003  940335536      100   94000000                en   \n",
       "3       10/27/2017  800526015      105  175000000                en   \n",
       "4        6/22/2008  521311860       98  180000000                en   \n",
       "...            ...        ...      ...        ...               ...   \n",
       "51934   12/24/1990          0       22          0                en   \n",
       "51939    6/26/2019          0        6          0                en   \n",
       "51941    3/15/2019          0       60          0                ja   \n",
       "51943     1/1/1978          0       12          0                en   \n",
       "51944    8/20/2019          0       10          0                bs   \n",
       "\n",
       "                                                  genres  \\\n",
       "0            Animation, Family, Adventure, Drama, Comedy   \n",
       "1                   Animation, Comedy, Family, Adventure   \n",
       "2                                      Animation, Family   \n",
       "3      Family, Animation, Fantasy, Music, Comedy, Adv...   \n",
       "4                     Animation, Family, Science Fiction   \n",
       "...                                                  ...   \n",
       "51934                                  Animation, Family   \n",
       "51939                                          Animation   \n",
       "51941                         Family, Animation, Fantasy   \n",
       "51943                     Animation, Documentary, Family   \n",
       "51944                                          Animation   \n",
       "\n",
       "                                    production_companies  \n",
       "0                            Pixar, Walt Disney Pictures  \n",
       "1                                                  Pixar  \n",
       "2                                                  Pixar  \n",
       "3                            Pixar, Walt Disney Pictures  \n",
       "4                            Pixar, Walt Disney Pictures  \n",
       "...                                                  ...  \n",
       "51934                                       Leeway Sound  \n",
       "51939                                       ANIMA LATINA  \n",
       "51941  Benesse, Sony Music Direct, TOHO, The Answer S...  \n",
       "51943                                      Coronet Films  \n",
       "51944                           Studio Neum, Zagreb Film  \n",
       "\n",
       "[28618 rows x 10 columns]"
      ]
     },
     "execution_count": 15,
     "metadata": {},
     "output_type": "execute_result"
    }
   ],
   "source": [
    "df.drop_duplicates()"
   ]
  },
  {
   "cell_type": "code",
   "execution_count": 16,
   "id": "41781ae5-bb5b-4fcf-8bdc-48c20d11227b",
   "metadata": {
    "tags": []
   },
   "outputs": [
    {
     "data": {
      "text/plain": [
       "genres\n",
       "Animation                                             12926\n",
       "Animation, Comedy                                      1764\n",
       "Animation, Family                                      1465\n",
       "Animation, Comedy, Family                               557\n",
       "Comedy, Animation                                       524\n",
       "                                                      ...  \n",
       "Animation, Comedy, Drama, Mystery, Fantasy                1\n",
       "Family, Animation, Adventure, Comedy, Drama, Music        1\n",
       "Comedy, Animation, Music, Family                          1\n",
       "Animation, Comedy, Fantasy, Adventure, TV Movie           1\n",
       "Drama, Comedy, Documentary, History, Animation            1\n",
       "Name: count, Length: 2239, dtype: int64"
      ]
     },
     "metadata": {},
     "output_type": "display_data"
    }
   ],
   "source": [
    "display(df[\"genres\"].value_counts())"
   ]
  },
  {
   "cell_type": "code",
   "execution_count": 17,
   "id": "329195c8-d9ab-4906-9627-6ac65556d0be",
   "metadata": {
    "tags": []
   },
   "outputs": [],
   "source": [
    "genre = {}\n",
    "for row in df[\"genres\"].str.split(\",\"):\n",
    "    for word in row:\n",
    "        word = word.strip()\n",
    "        if word in genre:\n",
    "            genre[word] += 1\n",
    "        else:\n",
    "            genre[word] = 1\n",
    "genres_df = pd.DataFrame.from_dict([genre]).T.sort_values(by=0, ascending=False).head(10)"
   ]
  },
  {
   "cell_type": "code",
   "execution_count": 18,
   "id": "7440807b-379a-4afe-b409-f7cdbf400a0b",
   "metadata": {
    "tags": []
   },
   "outputs": [],
   "source": [
    "genres_df.drop('Animation', inplace=True)"
   ]
  },
  {
   "cell_type": "code",
   "execution_count": 19,
   "id": "43459fa7-c592-436b-8755-937a2356b546",
   "metadata": {
    "tags": []
   },
   "outputs": [
    {
     "data": {
      "text/html": [
       "<div>\n",
       "<style scoped>\n",
       "    .dataframe tbody tr th:only-of-type {\n",
       "        vertical-align: middle;\n",
       "    }\n",
       "\n",
       "    .dataframe tbody tr th {\n",
       "        vertical-align: top;\n",
       "    }\n",
       "\n",
       "    .dataframe thead th {\n",
       "        text-align: right;\n",
       "    }\n",
       "</style>\n",
       "<table border=\"1\" class=\"dataframe\">\n",
       "  <thead>\n",
       "    <tr style=\"text-align: right;\">\n",
       "      <th></th>\n",
       "      <th>0</th>\n",
       "    </tr>\n",
       "  </thead>\n",
       "  <tbody>\n",
       "    <tr>\n",
       "      <th>Comedy</th>\n",
       "      <td>5904</td>\n",
       "    </tr>\n",
       "    <tr>\n",
       "      <th>Family</th>\n",
       "      <td>5532</td>\n",
       "    </tr>\n",
       "    <tr>\n",
       "      <th>Fantasy</th>\n",
       "      <td>2870</td>\n",
       "    </tr>\n",
       "    <tr>\n",
       "      <th>Adventure</th>\n",
       "      <td>2706</td>\n",
       "    </tr>\n",
       "    <tr>\n",
       "      <th>Drama</th>\n",
       "      <td>1922</td>\n",
       "    </tr>\n",
       "    <tr>\n",
       "      <th>Action</th>\n",
       "      <td>1889</td>\n",
       "    </tr>\n",
       "    <tr>\n",
       "      <th>Science Fiction</th>\n",
       "      <td>1793</td>\n",
       "    </tr>\n",
       "    <tr>\n",
       "      <th>Music</th>\n",
       "      <td>1031</td>\n",
       "    </tr>\n",
       "    <tr>\n",
       "      <th>Documentary</th>\n",
       "      <td>824</td>\n",
       "    </tr>\n",
       "  </tbody>\n",
       "</table>\n",
       "</div>"
      ],
      "text/plain": [
       "                    0\n",
       "Comedy           5904\n",
       "Family           5532\n",
       "Fantasy          2870\n",
       "Adventure        2706\n",
       "Drama            1922\n",
       "Action           1889\n",
       "Science Fiction  1793\n",
       "Music            1031\n",
       "Documentary       824"
      ]
     },
     "execution_count": 19,
     "metadata": {},
     "output_type": "execute_result"
    }
   ],
   "source": [
    "genres_df"
   ]
  },
  {
   "cell_type": "code",
   "execution_count": 20,
   "id": "e1d15ed7-c28f-4468-93b0-3097aab9abe9",
   "metadata": {
    "tags": []
   },
   "outputs": [
    {
     "data": {
      "text/plain": [
       "original_language\n",
       "en    14944\n",
       "ja     3758\n",
       "fr     1861\n",
       "ru     1616\n",
       "de      673\n",
       "es      639\n",
       "cs      498\n",
       "xx      494\n",
       "pl      478\n",
       "zh      414\n",
       "dtype: int64"
      ]
     },
     "execution_count": 20,
     "metadata": {},
     "output_type": "execute_result"
    }
   ],
   "source": [
    "grouped_orig_lang = df.groupby('original_language').size().sort_values(ascending=False).head(10)\n",
    "grouped_orig_lang"
   ]
  },
  {
   "cell_type": "code",
   "execution_count": 21,
   "id": "620a1cfa-1dfa-4ac9-9f7c-5165edf325ff",
   "metadata": {
    "tags": []
   },
   "outputs": [
    {
     "data": {
      "image/png": "[encoded data removed]",
      "text/plain": [
       "<Figure size 400x400 with 1 Axes>"
      ]
     },
     "metadata": {},
     "output_type": "display_data"
    }
   ],
   "source": [
    "import pandas as pd\n",
    "import numpy as np\n",
    "import matplotlib.pyplot as plt\n",
    "import seaborn as sns\n",
    "\n",
    "plt.figure(figsize=(4,4))\n",
    "plt.title(\"Distribution of the 10 most common original language\")\n",
    "plt.pie(grouped_orig_lang, labels=grouped_orig_lang.index, autopct='%1.1f%%')\n",
    "plt.show()"
   ]
  },
  {
   "cell_type": "code",
   "execution_count": 22,
   "id": "a921331f-7cd2-4e12-b5e4-ab4af68aa5cb",
   "metadata": {
    "tags": []
   },
   "outputs": [
    {
     "data": {
      "text/plain": [
       "production_companies\n",
       "ONF | NFB                       714\n",
       "Soyuzmultfilm                   655\n",
       "Walt Disney Productions         555\n",
       "Walter Lantz Productions        511\n",
       "Fleischer Studios               399\n",
       "Tokyo University of the Arts    339\n",
       "Famous Studios                  335\n",
       "Terrytoons                      287\n",
       "Kyivnaukfilm                    274\n",
       "DePatie-Freleng Enterprises     272\n",
       "dtype: int64"
      ]
     },
     "execution_count": 22,
     "metadata": {},
     "output_type": "execute_result"
    }
   ],
   "source": [
    "grouped_prod_compa = df.groupby('production_companies').size().sort_values(ascending=False).head(10)\n",
    "grouped_prod_compa"
   ]
  },
  {
   "cell_type": "code",
   "execution_count": 23,
   "id": "85ce52b5-3cf8-48a0-95ed-5f8d3ca6b790",
   "metadata": {
    "tags": []
   },
   "outputs": [
    {
     "data": {
      "image/png": "[encoded data removed]",
      "text/plain": [
       "<Figure size 400x400 with 1 Axes>"
      ]
     },
     "metadata": {},
     "output_type": "display_data"
    }
   ],
   "source": [
    "plt.figure(figsize=(4,4))\n",
    "plt.title(\"Distribution of the 10 most common production companies\")\n",
    "plt.pie(grouped_prod_compa, labels=grouped_prod_compa.index, autopct='%1.1f%%')\n",
    "plt.show()"
   ]
  },
  {
   "cell_type": "code",
   "execution_count": 25,
   "id": "e379a69f-b90d-45c5-a264-4d0f5397307d",
   "metadata": {
    "tags": []
   },
   "outputs": [
    {
     "data": {
      "image/png": "[encoded data removed]",
      "text/plain": [
       "<Figure size 2000x500 with 1 Axes>"
      ]
     },
     "metadata": {},
     "output_type": "display_data"
    }
   ],
   "source": [
    "popular = df.sort_values(\"revenue\", ascending=False)[[\"title\", \"revenue\"]].head(25)\n",
    "plt.figure(figsize=(20,5))\n",
    "sns.lineplot(popular, x=\"title\", y=\"revenue\")\n",
    "plt.title(\"Top Ten Most Popular Animated Movies\")\n",
    "plt.xticks(rotation=45)\n",
    "plt.show()"
   ]
  },
  {
   "cell_type": "code",
   "execution_count": 26,
   "id": "c1f12d77-022b-40fc-b49b-bb6359990fd4",
   "metadata": {
    "tags": []
   },
   "outputs": [
    {
     "data": {
      "text/html": [
       "<div>\n",
       "<style scoped>\n",
       "    .dataframe tbody tr th:only-of-type {\n",
       "        vertical-align: middle;\n",
       "    }\n",
       "\n",
       "    .dataframe tbody tr th {\n",
       "        vertical-align: top;\n",
       "    }\n",
       "\n",
       "    .dataframe thead th {\n",
       "        text-align: right;\n",
       "    }\n",
       "</style>\n",
       "<table border=\"1\" class=\"dataframe\">\n",
       "  <thead>\n",
       "    <tr style=\"text-align: right;\">\n",
       "      <th></th>\n",
       "      <th>title</th>\n",
       "      <th>budget</th>\n",
       "    </tr>\n",
       "  </thead>\n",
       "  <tbody>\n",
       "    <tr>\n",
       "      <th>29</th>\n",
       "      <td>Tangled</td>\n",
       "      <td>260000000</td>\n",
       "    </tr>\n",
       "    <tr>\n",
       "      <th>17</th>\n",
       "      <td>Toy Story 3</td>\n",
       "      <td>200000000</td>\n",
       "    </tr>\n",
       "    <tr>\n",
       "      <th>23</th>\n",
       "      <td>Incredibles 2</td>\n",
       "      <td>200000000</td>\n",
       "    </tr>\n",
       "    <tr>\n",
       "      <th>26</th>\n",
       "      <td>Finding Dory</td>\n",
       "      <td>200000000</td>\n",
       "    </tr>\n",
       "    <tr>\n",
       "      <th>35</th>\n",
       "      <td>Monsters University</td>\n",
       "      <td>200000000</td>\n",
       "    </tr>\n",
       "    <tr>\n",
       "      <th>52</th>\n",
       "      <td>Luca</td>\n",
       "      <td>200000000</td>\n",
       "    </tr>\n",
       "    <tr>\n",
       "      <th>59</th>\n",
       "      <td>Cars 2</td>\n",
       "      <td>200000000</td>\n",
       "    </tr>\n",
       "    <tr>\n",
       "      <th>86</th>\n",
       "      <td>Onward</td>\n",
       "      <td>200000000</td>\n",
       "    </tr>\n",
       "    <tr>\n",
       "      <th>127</th>\n",
       "      <td>A Christmas Carol</td>\n",
       "      <td>200000000</td>\n",
       "    </tr>\n",
       "    <tr>\n",
       "      <th>167</th>\n",
       "      <td>Lightyear</td>\n",
       "      <td>200000000</td>\n",
       "    </tr>\n",
       "  </tbody>\n",
       "</table>\n",
       "</div>"
      ],
      "text/plain": [
       "                   title     budget\n",
       "29               Tangled  260000000\n",
       "17           Toy Story 3  200000000\n",
       "23         Incredibles 2  200000000\n",
       "26          Finding Dory  200000000\n",
       "35   Monsters University  200000000\n",
       "52                  Luca  200000000\n",
       "59                Cars 2  200000000\n",
       "86                Onward  200000000\n",
       "127    A Christmas Carol  200000000\n",
       "167            Lightyear  200000000"
      ]
     },
     "execution_count": 26,
     "metadata": {},
     "output_type": "execute_result"
    }
   ],
   "source": [
    "## top 10 animated movies with  the largest budget\n",
    "largest_budget = df.loc[df['budget'].nlargest(10).index, ['title', 'budget']]\n",
    "largest_budget"
   ]
  },
  {
   "cell_type": "code",
   "execution_count": 27,
   "id": "bd7817aa-be1f-4791-8285-0dfb4a428b92",
   "metadata": {
    "tags": []
   },
   "outputs": [],
   "source": [
    "longest_movies = df[['title', 'runtime',]].sort_values(by='runtime', ascending=False).head(10)\n",
    "#longest_movies\n"
   ]
  },
  {
   "cell_type": "code",
   "execution_count": 9,
   "id": "e0a5bd8a-81b6-47ee-b948-bdef4a7ddd57",
   "metadata": {
    "tags": []
   },
   "outputs": [
    {
     "ename": "NameError",
     "evalue": "name 'longest_movies' is not defined",
     "output_type": "error",
     "traceback": [
      "\u001b[1;31m---------------------------------------------------------------------------\u001b[0m",
      "\u001b[1;31mNameError\u001b[0m                                 Traceback (most recent call last)",
      "Cell \u001b[1;32mIn[9], line 3\u001b[0m\n\u001b[0;32m      1\u001b[0m plt\u001b[38;5;241m.\u001b[39mfigure(figsize\u001b[38;5;241m=\u001b[39m(\u001b[38;5;241m10\u001b[39m, \u001b[38;5;241m4\u001b[39m))\n\u001b[0;32m      2\u001b[0m plt\u001b[38;5;241m.\u001b[39mtitle(\u001b[38;5;124m\"\u001b[39m\u001b[38;5;124mTop 15 longest movies\u001b[39m\u001b[38;5;124m\"\u001b[39m)\n\u001b[1;32m----> 3\u001b[0m sns\u001b[38;5;241m.\u001b[39mbarplot(data\u001b[38;5;241m=\u001b[39mlongest_movies, y\u001b[38;5;241m=\u001b[39m\u001b[38;5;124m'\u001b[39m\u001b[38;5;124mtitle\u001b[39m\u001b[38;5;124m'\u001b[39m, x\u001b[38;5;241m=\u001b[39m\u001b[38;5;124m'\u001b[39m\u001b[38;5;124mruntime\u001b[39m\u001b[38;5;124m'\u001b[39m, orient\u001b[38;5;241m=\u001b[39m\u001b[38;5;124m'\u001b[39m\u001b[38;5;124mv\u001b[39m\u001b[38;5;124m'\u001b[39m)\n\u001b[0;32m      4\u001b[0m plt\u001b[38;5;241m.\u001b[39mxlabel(\u001b[38;5;124m'\u001b[39m\u001b[38;5;124mRuntime [min]\u001b[39m\u001b[38;5;124m'\u001b[39m)\n\u001b[0;32m      5\u001b[0m plt\u001b[38;5;241m.\u001b[39mylabel(\u001b[38;5;124m\"\u001b[39m\u001b[38;5;124mMovie title\u001b[39m\u001b[38;5;124m\"\u001b[39m)\n",
      "\u001b[1;31mNameError\u001b[0m: name 'longest_movies' is not defined"
     ]
    },
    {
     "data": {
      "image/png": "[encoded data removed]",
      "text/plain": [
       "<Figure size 1000x400 with 1 Axes>"
      ]
     },
     "metadata": {},
     "output_type": "display_data"
    }
   ],
   "source": [
    "plt.figure(figsize=(10, 4))\n",
    "plt.title(\"Top 15 longest movies\")\n",
    "sns.barplot(data=longest_movies, y='title', x='runtime', orient='h')\n",
    "plt.xlabel('Runtime [min]')\n",
    "plt.ylabel(\"Movie title\")\n",
    "plt.show()"
   ]
  },
  {
   "cell_type": "code",
   "execution_count": 10,
   "id": "c871295c-b3c1-4e36-b318-30421b499785",
   "metadata": {},
   "outputs": [
    {
     "ename": "NameError",
     "evalue": "name 'longest_movies' is not defined",
     "output_type": "error",
     "traceback": [
      "\u001b[1;31m---------------------------------------------------------------------------\u001b[0m",
      "\u001b[1;31mNameError\u001b[0m                                 Traceback (most recent call last)",
      "Cell \u001b[1;32mIn[10], line 3\u001b[0m\n\u001b[0;32m      1\u001b[0m plt\u001b[38;5;241m.\u001b[39mfigure(figsize\u001b[38;5;241m=\u001b[39m(\u001b[38;5;241m10\u001b[39m, \u001b[38;5;241m4\u001b[39m))\n\u001b[0;32m      2\u001b[0m plt\u001b[38;5;241m.\u001b[39mtitle(\u001b[38;5;124m\"\u001b[39m\u001b[38;5;124mTop 15 longest movies\u001b[39m\u001b[38;5;124m\"\u001b[39m)\n\u001b[1;32m----> 3\u001b[0m sns\u001b[38;5;241m.\u001b[39mbarplot(data\u001b[38;5;241m=\u001b[39mlongest_movies, y\u001b[38;5;241m=\u001b[39m\u001b[38;5;124m'\u001b[39m\u001b[38;5;124mtitle\u001b[39m\u001b[38;5;124m'\u001b[39m, x\u001b[38;5;241m=\u001b[39m\u001b[38;5;124m'\u001b[39m\u001b[38;5;124mruntime\u001b[39m\u001b[38;5;124m'\u001b[39m, orient\u001b[38;5;241m=\u001b[39m\u001b[38;5;124m'\u001b[39m\u001b[38;5;124mh\u001b[39m\u001b[38;5;124m'\u001b[39m)\n\u001b[0;32m      4\u001b[0m plt\u001b[38;5;241m.\u001b[39mxlabel(\u001b[38;5;124m'\u001b[39m\u001b[38;5;124mRuntime [min]\u001b[39m\u001b[38;5;124m'\u001b[39m)\n\u001b[0;32m      5\u001b[0m plt\u001b[38;5;241m.\u001b[39mylabel(\u001b[38;5;124m\"\u001b[39m\u001b[38;5;124mMovie title\u001b[39m\u001b[38;5;124m\"\u001b[39m)\n",
      "\u001b[1;31mNameError\u001b[0m: name 'longest_movies' is not defined"
     ]
    },
    {
     "data": {
      "image/png": "[encoded data removed]",
      "text/plain": [
       "<Figure size 1000x400 with 1 Axes>"
      ]
     },
     "metadata": {},
     "output_type": "display_data"
    }
   ],
   "source": [
    "plt.figure(figsize=(10, 4))\n",
    "plt.title(\"Top 15 longest movies\")\n",
    "sns.barplot(data=longest_movies, y='title', x='runtime', orient='h')\n",
    "plt.xlabel('Runtime [min]')\n",
    "plt.ylabel(\"Movie title\")\n",
    "plt.show()"
   ]
  },
  {
   "cell_type": "code",
   "execution_count": 29,
   "id": "71a1bf1c-1597-4c2b-9815-1a3aa5c1d635",
   "metadata": {
    "tags": []
   },
   "outputs": [
    {
     "data": {
      "image/png": "[encoded data removed]",
      "text/plain": [
       "<Figure size 1500x500 with 1 Axes>"
      ]
     },
     "metadata": {},
     "output_type": "display_data"
    }
   ],
   "source": [
    "top_ten = df[[\"title\", \"vote_count\"]].sort_values(\"vote_count\", ascending=False).head(5)\n",
    "\n",
    "plt.figure(figsize=(15,5))\n",
    "sns.barplot(data=top_ten, y=\"title\", x=\"vote_count\", palette=\"YlGnBu_r\")\n",
    "plt.title(\"Top Ten Most Voted Animated Movies\")\n",
    "plt.show()"
   ]
  },
  {
   "cell_type": "code",
   "execution_count": 30,
   "id": "7d1df7c5-8f14-4341-856b-938788d43912",
   "metadata": {
    "tags": []
   },
   "outputs": [
    {
     "data": {
      "image/png": "[encoded data removed]",
      "text/plain": [
       "<Figure size 640x480 with 1 Axes>"
      ]
     },
     "metadata": {},
     "output_type": "display_data"
    }
   ],
   "source": [
    "plt.bar(df['original_language'].value_counts().head(5).index, df['original_language'].value_counts().head(5).values)\n",
    "plt.title(' Top 5 Language that used in movie')\n",
    "plt.xlabel('Language')\n",
    "plt.ylabel('Total Movie')\n",
    "plt.show()"
   ]
  },
  {
   "cell_type": "markdown",
   "id": "2cd513ef-6788-462d-9830-9defb55af861",
   "metadata": {
    "tags": []
   },
   "source": [
    "## df.tail()"
   ]
  },
  {
   "cell_type": "code",
   "execution_count": 31,
   "id": "ee24dcc1-8e39-471c-8b08-a12ec14c25eb",
   "metadata": {
    "tags": []
   },
   "outputs": [
    {
     "data": {
      "image/png": "[encoded data removed]",
      "text/plain": [
       "<Figure size 640x480 with 1 Axes>"
      ]
     },
     "metadata": {},
     "output_type": "display_data"
    }
   ],
   "source": [
    "#Create a scatter plot of budget vs revenue\n",
    "sns.scatterplot(x=\"budget\", y=\"revenue\", data=df)\n",
    "# Set plot title and axes labels\n",
    "plt.title(\"Budget vs Revenue\")\n",
    "plt.xlabel(\"Budget\")\n",
    "plt.ylabel(\"Revenue\")\n",
    "# Show the plot\n",
    "plt.show()"
   ]
  },
  {
   "cell_type": "code",
   "execution_count": 32,
   "id": "addbb024-1e67-4abd-93aa-b451cd8013b0",
   "metadata": {
    "tags": []
   },
   "outputs": [
    {
     "data": {
      "image/png": "[encoded data removed]",
      "text/plain": [
       "<Figure size 500x500 with 2 Axes>"
      ]
     },
     "metadata": {},
     "output_type": "display_data"
    }
   ],
   "source": [
    "def plot_correlation_map( df ):\n",
    " corr = df.corr()\n",
    " _ , ax = plt.subplots( figsize =( 5 , 5) )\n",
    " cmap = sns.diverging_palette( 240 , 10 , as_cmap = True )\n",
    " _ = sns.heatmap(corr,cmap = cmap,square=True, cbar_kws={ 'shrink' : .9 }, ax=ax, annot =\n",
    "True, annot_kws = { 'fontsize' : 12 })\n",
    "plot_correlation_map(df[['budget','revenue','runtime','vote_count']])\n",
    "plt.show()"
   ]
  },
  {
   "cell_type": "code",
   "execution_count": 33,
   "id": "df61b7ee-855e-4255-a1ce-a8d66b16203e",
   "metadata": {
    "tags": []
   },
   "outputs": [
    {
     "data": {
      "text/html": [
       "<div>\n",
       "<style scoped>\n",
       "    .dataframe tbody tr th:only-of-type {\n",
       "        vertical-align: middle;\n",
       "    }\n",
       "\n",
       "    .dataframe tbody tr th {\n",
       "        vertical-align: top;\n",
       "    }\n",
       "\n",
       "    .dataframe thead th {\n",
       "        text-align: right;\n",
       "    }\n",
       "</style>\n",
       "<table border=\"1\" class=\"dataframe\">\n",
       "  <thead>\n",
       "    <tr style=\"text-align: right;\">\n",
       "      <th></th>\n",
       "      <th>id</th>\n",
       "      <th>title</th>\n",
       "      <th>vote_count</th>\n",
       "      <th>release_date</th>\n",
       "      <th>revenue</th>\n",
       "      <th>runtime</th>\n",
       "      <th>budget</th>\n",
       "      <th>original_language</th>\n",
       "      <th>genres</th>\n",
       "      <th>production_companies</th>\n",
       "    </tr>\n",
       "  </thead>\n",
       "  <tbody>\n",
       "    <tr>\n",
       "      <th>51934</th>\n",
       "      <td>657684</td>\n",
       "      <td>Story of the Christmas Toys</td>\n",
       "      <td>0</td>\n",
       "      <td>12/24/1990</td>\n",
       "      <td>0</td>\n",
       "      <td>22</td>\n",
       "      <td>0</td>\n",
       "      <td>en</td>\n",
       "      <td>Animation, Family</td>\n",
       "      <td>Leeway Sound</td>\n",
       "    </tr>\n",
       "    <tr>\n",
       "      <th>51939</th>\n",
       "      <td>656671</td>\n",
       "      <td>Migrante</td>\n",
       "      <td>0</td>\n",
       "      <td>6/26/2019</td>\n",
       "      <td>0</td>\n",
       "      <td>6</td>\n",
       "      <td>0</td>\n",
       "      <td>en</td>\n",
       "      <td>Animation</td>\n",
       "      <td>ANIMA LATINA</td>\n",
       "    </tr>\n",
       "    <tr>\n",
       "      <th>51941</th>\n",
       "      <td>657149</td>\n",
       "      <td>Shimajiro to Ururu no Heroland</td>\n",
       "      <td>0</td>\n",
       "      <td>3/15/2019</td>\n",
       "      <td>0</td>\n",
       "      <td>60</td>\n",
       "      <td>0</td>\n",
       "      <td>ja</td>\n",
       "      <td>Family, Animation, Fantasy</td>\n",
       "      <td>Benesse, Sony Music Direct, TOHO, The Answer S...</td>\n",
       "    </tr>\n",
       "    <tr>\n",
       "      <th>51943</th>\n",
       "      <td>656893</td>\n",
       "      <td>Beginning Responsibility: A Lunchroom Goes Ban...</td>\n",
       "      <td>0</td>\n",
       "      <td>1/1/1978</td>\n",
       "      <td>0</td>\n",
       "      <td>12</td>\n",
       "      <td>0</td>\n",
       "      <td>en</td>\n",
       "      <td>Animation, Documentary, Family</td>\n",
       "      <td>Coronet Films</td>\n",
       "    </tr>\n",
       "    <tr>\n",
       "      <th>51944</th>\n",
       "      <td>656966</td>\n",
       "      <td>Natural Selection</td>\n",
       "      <td>0</td>\n",
       "      <td>8/20/2019</td>\n",
       "      <td>0</td>\n",
       "      <td>10</td>\n",
       "      <td>0</td>\n",
       "      <td>bs</td>\n",
       "      <td>Animation</td>\n",
       "      <td>Studio Neum, Zagreb Film</td>\n",
       "    </tr>\n",
       "  </tbody>\n",
       "</table>\n",
       "</div>"
      ],
      "text/plain": [
       "           id                                              title  vote_count  \\\n",
       "51934  657684                        Story of the Christmas Toys           0   \n",
       "51939  656671                                           Migrante           0   \n",
       "51941  657149                     Shimajiro to Ururu no Heroland           0   \n",
       "51943  656893  Beginning Responsibility: A Lunchroom Goes Ban...           0   \n",
       "51944  656966                                  Natural Selection           0   \n",
       "\n",
       "      release_date  revenue  runtime  budget original_language  \\\n",
       "51934   12/24/1990        0       22       0                en   \n",
       "51939    6/26/2019        0        6       0                en   \n",
       "51941    3/15/2019        0       60       0                ja   \n",
       "51943     1/1/1978        0       12       0                en   \n",
       "51944    8/20/2019        0       10       0                bs   \n",
       "\n",
       "                               genres  \\\n",
       "51934               Animation, Family   \n",
       "51939                       Animation   \n",
       "51941      Family, Animation, Fantasy   \n",
       "51943  Animation, Documentary, Family   \n",
       "51944                       Animation   \n",
       "\n",
       "                                    production_companies  \n",
       "51934                                       Leeway Sound  \n",
       "51939                                       ANIMA LATINA  \n",
       "51941  Benesse, Sony Music Direct, TOHO, The Answer S...  \n",
       "51943                                      Coronet Films  \n",
       "51944                           Studio Neum, Zagreb Film  "
      ]
     },
     "execution_count": 33,
     "metadata": {},
     "output_type": "execute_result"
    }
   ],
   "source": [
    "df.tail()\n"
   ]
  },
  {
   "cell_type": "code",
   "execution_count": 34,
   "id": "a7d766f9-0455-43a6-968e-69e79124e5d7",
   "metadata": {
    "tags": []
   },
   "outputs": [
    {
     "data": {
      "text/plain": [
       "id                      28618\n",
       "title                   28618\n",
       "vote_count              28618\n",
       "release_date            28618\n",
       "revenue                 28618\n",
       "runtime                 28618\n",
       "budget                  28618\n",
       "original_language       28618\n",
       "genres                  28618\n",
       "production_companies    28618\n",
       "dtype: int64"
      ]
     },
     "execution_count": 34,
     "metadata": {},
     "output_type": "execute_result"
    }
   ],
   "source": [
    "df.count()\n"
   ]
  },
  {
   "cell_type": "code",
   "execution_count": 35,
   "id": "e435df00-4a53-4a44-987d-ec9066c24db8",
   "metadata": {
    "tags": []
   },
   "outputs": [
    {
     "data": {
      "text/plain": [
       "id                                                12\n",
       "title                                              !\n",
       "vote_count                                         0\n",
       "release_date                                1/1/1908\n",
       "revenue                                            0\n",
       "runtime                                            0\n",
       "budget                                             0\n",
       "original_language                                 ab\n",
       "genres                  Action, Adventure, Animation\n",
       "production_companies              \"unknown\" estudios\n",
       "dtype: object"
      ]
     },
     "execution_count": 35,
     "metadata": {},
     "output_type": "execute_result"
    }
   ],
   "source": [
    "df.min()"
   ]
  },
  {
   "cell_type": "code",
   "execution_count": 36,
   "id": "de358c24-c443-4091-a4a6-bef334c9cb6d",
   "metadata": {
    "tags": []
   },
   "outputs": [
    {
     "data": {
      "text/plain": [
       "id                                                                1237982\n",
       "title                                                             투명한 움직임\n",
       "vote_count                                                          19463\n",
       "release_date                                                     9/9/2023\n",
       "revenue                                                        1450026933\n",
       "runtime                                                              1035\n",
       "budget                                                          260000000\n",
       "original_language                                                      zh\n",
       "genres                  Western, War, Adventure, History, Science Fict...\n",
       "production_companies                                    한국독립애니메이션협회, 씨네앱스\n",
       "dtype: object"
      ]
     },
     "execution_count": 36,
     "metadata": {},
     "output_type": "execute_result"
    }
   ],
   "source": [
    "df.max()"
   ]
  },
  {
   "cell_type": "code",
   "execution_count": 37,
   "id": "43a7460e-bc39-41e9-8ce8-8acda9207b78",
   "metadata": {},
   "outputs": [
    {
     "data": {
      "text/html": [
       "<div>\n",
       "<style scoped>\n",
       "    .dataframe tbody tr th:only-of-type {\n",
       "        vertical-align: middle;\n",
       "    }\n",
       "\n",
       "    .dataframe tbody tr th {\n",
       "        vertical-align: top;\n",
       "    }\n",
       "\n",
       "    .dataframe thead th {\n",
       "        text-align: right;\n",
       "    }\n",
       "</style>\n",
       "<table border=\"1\" class=\"dataframe\">\n",
       "  <thead>\n",
       "    <tr style=\"text-align: right;\">\n",
       "      <th></th>\n",
       "      <th>title</th>\n",
       "      <th>release_date</th>\n",
       "      <th>original_language</th>\n",
       "      <th>genres</th>\n",
       "      <th>production_companies</th>\n",
       "    </tr>\n",
       "  </thead>\n",
       "  <tbody>\n",
       "    <tr>\n",
       "      <th>count</th>\n",
       "      <td>28618</td>\n",
       "      <td>28618</td>\n",
       "      <td>28618</td>\n",
       "      <td>28618</td>\n",
       "      <td>28618</td>\n",
       "    </tr>\n",
       "    <tr>\n",
       "      <th>unique</th>\n",
       "      <td>27703</td>\n",
       "      <td>13533</td>\n",
       "      <td>92</td>\n",
       "      <td>2239</td>\n",
       "      <td>10735</td>\n",
       "    </tr>\n",
       "    <tr>\n",
       "      <th>top</th>\n",
       "      <td>Beauty and the Beast</td>\n",
       "      <td>1/1/2011</td>\n",
       "      <td>en</td>\n",
       "      <td>Animation</td>\n",
       "      <td>ONF | NFB</td>\n",
       "    </tr>\n",
       "    <tr>\n",
       "      <th>freq</th>\n",
       "      <td>9</td>\n",
       "      <td>121</td>\n",
       "      <td>14944</td>\n",
       "      <td>12926</td>\n",
       "      <td>714</td>\n",
       "    </tr>\n",
       "  </tbody>\n",
       "</table>\n",
       "</div>"
      ],
      "text/plain": [
       "                       title release_date original_language     genres  \\\n",
       "count                  28618        28618             28618      28618   \n",
       "unique                 27703        13533                92       2239   \n",
       "top     Beauty and the Beast     1/1/2011                en  Animation   \n",
       "freq                       9          121             14944      12926   \n",
       "\n",
       "       production_companies  \n",
       "count                 28618  \n",
       "unique                10735  \n",
       "top               ONF | NFB  \n",
       "freq                    714  "
      ]
     },
     "execution_count": 37,
     "metadata": {},
     "output_type": "execute_result"
    }
   ],
   "source": [
    "df.describe(include='object')"
   ]
  },
  {
   "cell_type": "code",
   "execution_count": null,
   "id": "4feb8f30-2265-411f-b5d1-192ffe369c3a",
   "metadata": {},
   "outputs": [],
   "source": [
    "display(df[\"year\"].value_counts())"
   ]
  }
 ],
 "metadata": {
  "kernelspec": {
   "display_name": "Python 3 (ipykernel)",
   "language": "python",
   "name": "python3"
  },
  "language_info": {
   "codemirror_mode": {
    "name": "ipython",
    "version": 3
   },
   "file_extension": ".py",
   "mimetype": "text/x-python",
   "name": "python",
   "nbconvert_exporter": "python",
   "pygments_lexer": "ipython3",
   "version": "3.11.7"
  }
 },
 "nbformat": 4,
 "nbformat_minor": 5
}
